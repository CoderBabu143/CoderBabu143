{
  "nbformat": 4,
  "nbformat_minor": 0,
  "metadata": {
    "colab": {
      "provenance": [],
      "toc_visible": true,
      "authorship_tag": "ABX9TyMrUMkVQTfkzj05BNhYR3vs",
      "include_colab_link": true
    },
    "kernelspec": {
      "name": "python3",
      "display_name": "Python 3"
    },
    "language_info": {
      "name": "python"
    }
  },
  "cells": [
    {
      "cell_type": "markdown",
      "metadata": {
        "id": "view-in-github",
        "colab_type": "text"
      },
      "source": [
        "<a href=\"https://colab.research.google.com/github/CoderBabu143/CoderBabu143/blob/main/CUSTOMER_SPENT_ANALYSIS_USING_K_MEANS_CLUSTERING.ipynb\" target=\"_parent\"><img src=\"https://colab.research.google.com/assets/colab-badge.svg\" alt=\"Open In Colab\"/></a>"
      ]
    },
    {
      "cell_type": "code",
      "execution_count": 7,
      "metadata": {
        "id": "6xz2NlJVgLOx"
      },
      "outputs": [],
      "source": [
        "#importing the basic libraries\n",
        "import pandas as pd\n",
        "import numpy as np\n",
        "import matplotlib.pyplot as plt\n",
        "\n"
      ]
    },
    {
      "cell_type": "markdown",
      "source": [
        "**LOAD DATASET FROM LOCAL DIRECTORY**\n"
      ],
      "metadata": {
        "id": "DKB7vddiBC3f"
      }
    },
    {
      "cell_type": "code",
      "source": [
        "from google.colab import files\n",
        "uploaded=files.upload()"
      ],
      "metadata": {
        "colab": {
          "base_uri": "https://localhost:8080/",
          "height": 73
        },
        "id": "Nd0BD9LABOx5",
        "outputId": "f290dd7b-8bec-4ffd-e796-25a25d497603"
      },
      "execution_count": 8,
      "outputs": [
        {
          "output_type": "display_data",
          "data": {
            "text/plain": [
              "<IPython.core.display.HTML object>"
            ],
            "text/html": [
              "\n",
              "     <input type=\"file\" id=\"files-b9e7092e-749e-4ddb-b700-f8f70e4fc6a1\" name=\"files[]\" multiple disabled\n",
              "        style=\"border:none\" />\n",
              "     <output id=\"result-b9e7092e-749e-4ddb-b700-f8f70e4fc6a1\">\n",
              "      Upload widget is only available when the cell has been executed in the\n",
              "      current browser session. Please rerun this cell to enable.\n",
              "      </output>\n",
              "      <script>// Copyright 2017 Google LLC\n",
              "//\n",
              "// Licensed under the Apache License, Version 2.0 (the \"License\");\n",
              "// you may not use this file except in compliance with the License.\n",
              "// You may obtain a copy of the License at\n",
              "//\n",
              "//      http://www.apache.org/licenses/LICENSE-2.0\n",
              "//\n",
              "// Unless required by applicable law or agreed to in writing, software\n",
              "// distributed under the License is distributed on an \"AS IS\" BASIS,\n",
              "// WITHOUT WARRANTIES OR CONDITIONS OF ANY KIND, either express or implied.\n",
              "// See the License for the specific language governing permissions and\n",
              "// limitations under the License.\n",
              "\n",
              "/**\n",
              " * @fileoverview Helpers for google.colab Python module.\n",
              " */\n",
              "(function(scope) {\n",
              "function span(text, styleAttributes = {}) {\n",
              "  const element = document.createElement('span');\n",
              "  element.textContent = text;\n",
              "  for (const key of Object.keys(styleAttributes)) {\n",
              "    element.style[key] = styleAttributes[key];\n",
              "  }\n",
              "  return element;\n",
              "}\n",
              "\n",
              "// Max number of bytes which will be uploaded at a time.\n",
              "const MAX_PAYLOAD_SIZE = 100 * 1024;\n",
              "\n",
              "function _uploadFiles(inputId, outputId) {\n",
              "  const steps = uploadFilesStep(inputId, outputId);\n",
              "  const outputElement = document.getElementById(outputId);\n",
              "  // Cache steps on the outputElement to make it available for the next call\n",
              "  // to uploadFilesContinue from Python.\n",
              "  outputElement.steps = steps;\n",
              "\n",
              "  return _uploadFilesContinue(outputId);\n",
              "}\n",
              "\n",
              "// This is roughly an async generator (not supported in the browser yet),\n",
              "// where there are multiple asynchronous steps and the Python side is going\n",
              "// to poll for completion of each step.\n",
              "// This uses a Promise to block the python side on completion of each step,\n",
              "// then passes the result of the previous step as the input to the next step.\n",
              "function _uploadFilesContinue(outputId) {\n",
              "  const outputElement = document.getElementById(outputId);\n",
              "  const steps = outputElement.steps;\n",
              "\n",
              "  const next = steps.next(outputElement.lastPromiseValue);\n",
              "  return Promise.resolve(next.value.promise).then((value) => {\n",
              "    // Cache the last promise value to make it available to the next\n",
              "    // step of the generator.\n",
              "    outputElement.lastPromiseValue = value;\n",
              "    return next.value.response;\n",
              "  });\n",
              "}\n",
              "\n",
              "/**\n",
              " * Generator function which is called between each async step of the upload\n",
              " * process.\n",
              " * @param {string} inputId Element ID of the input file picker element.\n",
              " * @param {string} outputId Element ID of the output display.\n",
              " * @return {!Iterable<!Object>} Iterable of next steps.\n",
              " */\n",
              "function* uploadFilesStep(inputId, outputId) {\n",
              "  const inputElement = document.getElementById(inputId);\n",
              "  inputElement.disabled = false;\n",
              "\n",
              "  const outputElement = document.getElementById(outputId);\n",
              "  outputElement.innerHTML = '';\n",
              "\n",
              "  const pickedPromise = new Promise((resolve) => {\n",
              "    inputElement.addEventListener('change', (e) => {\n",
              "      resolve(e.target.files);\n",
              "    });\n",
              "  });\n",
              "\n",
              "  const cancel = document.createElement('button');\n",
              "  inputElement.parentElement.appendChild(cancel);\n",
              "  cancel.textContent = 'Cancel upload';\n",
              "  const cancelPromise = new Promise((resolve) => {\n",
              "    cancel.onclick = () => {\n",
              "      resolve(null);\n",
              "    };\n",
              "  });\n",
              "\n",
              "  // Wait for the user to pick the files.\n",
              "  const files = yield {\n",
              "    promise: Promise.race([pickedPromise, cancelPromise]),\n",
              "    response: {\n",
              "      action: 'starting',\n",
              "    }\n",
              "  };\n",
              "\n",
              "  cancel.remove();\n",
              "\n",
              "  // Disable the input element since further picks are not allowed.\n",
              "  inputElement.disabled = true;\n",
              "\n",
              "  if (!files) {\n",
              "    return {\n",
              "      response: {\n",
              "        action: 'complete',\n",
              "      }\n",
              "    };\n",
              "  }\n",
              "\n",
              "  for (const file of files) {\n",
              "    const li = document.createElement('li');\n",
              "    li.append(span(file.name, {fontWeight: 'bold'}));\n",
              "    li.append(span(\n",
              "        `(${file.type || 'n/a'}) - ${file.size} bytes, ` +\n",
              "        `last modified: ${\n",
              "            file.lastModifiedDate ? file.lastModifiedDate.toLocaleDateString() :\n",
              "                                    'n/a'} - `));\n",
              "    const percent = span('0% done');\n",
              "    li.appendChild(percent);\n",
              "\n",
              "    outputElement.appendChild(li);\n",
              "\n",
              "    const fileDataPromise = new Promise((resolve) => {\n",
              "      const reader = new FileReader();\n",
              "      reader.onload = (e) => {\n",
              "        resolve(e.target.result);\n",
              "      };\n",
              "      reader.readAsArrayBuffer(file);\n",
              "    });\n",
              "    // Wait for the data to be ready.\n",
              "    let fileData = yield {\n",
              "      promise: fileDataPromise,\n",
              "      response: {\n",
              "        action: 'continue',\n",
              "      }\n",
              "    };\n",
              "\n",
              "    // Use a chunked sending to avoid message size limits. See b/62115660.\n",
              "    let position = 0;\n",
              "    do {\n",
              "      const length = Math.min(fileData.byteLength - position, MAX_PAYLOAD_SIZE);\n",
              "      const chunk = new Uint8Array(fileData, position, length);\n",
              "      position += length;\n",
              "\n",
              "      const base64 = btoa(String.fromCharCode.apply(null, chunk));\n",
              "      yield {\n",
              "        response: {\n",
              "          action: 'append',\n",
              "          file: file.name,\n",
              "          data: base64,\n",
              "        },\n",
              "      };\n",
              "\n",
              "      let percentDone = fileData.byteLength === 0 ?\n",
              "          100 :\n",
              "          Math.round((position / fileData.byteLength) * 100);\n",
              "      percent.textContent = `${percentDone}% done`;\n",
              "\n",
              "    } while (position < fileData.byteLength);\n",
              "  }\n",
              "\n",
              "  // All done.\n",
              "  yield {\n",
              "    response: {\n",
              "      action: 'complete',\n",
              "    }\n",
              "  };\n",
              "}\n",
              "\n",
              "scope.google = scope.google || {};\n",
              "scope.google.colab = scope.google.colab || {};\n",
              "scope.google.colab._files = {\n",
              "  _uploadFiles,\n",
              "  _uploadFilesContinue,\n",
              "};\n",
              "})(self);\n",
              "</script> "
            ]
          },
          "metadata": {}
        },
        {
          "output_type": "stream",
          "name": "stdout",
          "text": [
            "Saving CUSTOMER SPENT ANALYSIS  DATA.csv to CUSTOMER SPENT ANALYSIS  DATA (3).csv\n"
          ]
        }
      ]
    },
    {
      "cell_type": "markdown",
      "source": [
        "**IMPORTING THE DATASET**"
      ],
      "metadata": {
        "id": "1jxcnTePApl4"
      }
    },
    {
      "cell_type": "code",
      "source": [
        "\n",
        "dataset=pd.read_csv('CUSTOMER SPENT ANALYSIS  DATA (3).csv')"
      ],
      "metadata": {
        "id": "34X2MVcyAwDZ"
      },
      "execution_count": 12,
      "outputs": []
    },
    {
      "cell_type": "markdown",
      "source": [
        "SUMMARIZE DATASET"
      ],
      "metadata": {
        "id": "d95YN6e-AYgr"
      }
    },
    {
      "cell_type": "code",
      "source": [
        "#SUMMARIZE DATASET\n",
        "print(dataset.shape)\n",
        "print(dataset.describe())\n",
        "print(dataset.head(5))"
      ],
      "metadata": {
        "colab": {
          "base_uri": "https://localhost:8080/"
        },
        "id": "ktfOmsH1Af6F",
        "outputId": "a8d0534f-a1c5-40cf-d5e1-a9780680df9b"
      },
      "execution_count": 13,
      "outputs": [
        {
          "output_type": "stream",
          "name": "stdout",
          "text": [
            "(99, 2)\n",
            "            INCOME        SPEND\n",
            "count    99.000000    99.000000\n",
            "mean    323.484848   208.080808\n",
            "std     244.576534   168.106786\n",
            "min     240.000000   150.000000\n",
            "25%     250.000000   170.000000\n",
            "50%     280.000000   173.000000\n",
            "75%     300.000000   179.000000\n",
            "max    2243.000000  1178.000000\n",
            "   INCOME  SPEND\n",
            "0     240    172\n",
            "1     250    173\n",
            "2     270    170\n",
            "3     280    150\n",
            "4     290    168\n"
          ]
        }
      ]
    },
    {
      "cell_type": "markdown",
      "source": [
        "**SEGREGATE AND ZIPPING DATASET**"
      ],
      "metadata": {
        "id": "pnG4DTflCI73"
      }
    },
    {
      "cell_type": "code",
      "source": [
        "Income=dataset['INCOME'].values\n",
        "Spend=dataset['SPEND'].values\n",
        "X=np.array(list(zip(Income,Spend)))\n",
        "X"
      ],
      "metadata": {
        "colab": {
          "base_uri": "https://localhost:8080/"
        },
        "id": "8VHdMPUKCSef",
        "outputId": "fa70243d-54c4-48c6-e3db-611c460267ce"
      },
      "execution_count": 14,
      "outputs": [
        {
          "output_type": "execute_result",
          "data": {
            "text/plain": [
              "array([[ 240,  172],\n",
              "       [ 250,  173],\n",
              "       [ 270,  170],\n",
              "       [ 280,  150],\n",
              "       [ 290,  168],\n",
              "       [ 300,  179],\n",
              "       [ 243,  178],\n",
              "       [ 330,  200],\n",
              "       [ 240,  172],\n",
              "       [ 250,  173],\n",
              "       [ 270,  170],\n",
              "       [ 280,  150],\n",
              "       [ 290,  168],\n",
              "       [ 300,  179],\n",
              "       [ 243,  178],\n",
              "       [ 330,  200],\n",
              "       [ 240,  172],\n",
              "       [ 250,  173],\n",
              "       [ 270,  170],\n",
              "       [ 280,  150],\n",
              "       [ 290,  168],\n",
              "       [ 300,  179],\n",
              "       [ 243,  178],\n",
              "       [ 330,  200],\n",
              "       [ 240,  172],\n",
              "       [ 250,  173],\n",
              "       [ 270,  170],\n",
              "       [ 280,  150],\n",
              "       [ 290,  168],\n",
              "       [ 300,  179],\n",
              "       [ 243,  178],\n",
              "       [ 330,  200],\n",
              "       [ 240,  172],\n",
              "       [ 250,  173],\n",
              "       [ 270,  170],\n",
              "       [ 280,  150],\n",
              "       [ 290,  168],\n",
              "       [ 300,  179],\n",
              "       [ 243,  178],\n",
              "       [ 330,  200],\n",
              "       [ 240,  172],\n",
              "       [ 250,  173],\n",
              "       [ 270,  170],\n",
              "       [ 280,  150],\n",
              "       [ 290,  168],\n",
              "       [ 300,  179],\n",
              "       [ 243,  178],\n",
              "       [ 330,  200],\n",
              "       [ 240,  172],\n",
              "       [ 250,  173],\n",
              "       [ 270,  170],\n",
              "       [ 280,  150],\n",
              "       [ 290,  168],\n",
              "       [ 300,  179],\n",
              "       [ 243,  178],\n",
              "       [ 330,  200],\n",
              "       [ 243,  178],\n",
              "       [ 330,  200],\n",
              "       [ 240,  172],\n",
              "       [ 250,  173],\n",
              "       [ 270,  170],\n",
              "       [ 280,  150],\n",
              "       [ 290,  168],\n",
              "       [ 300,  179],\n",
              "       [ 243,  178],\n",
              "       [ 330,  200],\n",
              "       [ 243,  178],\n",
              "       [ 330,  200],\n",
              "       [ 240,  172],\n",
              "       [ 250,  173],\n",
              "       [ 270,  170],\n",
              "       [ 280,  150],\n",
              "       [ 290,  168],\n",
              "       [ 300,  179],\n",
              "       [ 243,  178],\n",
              "       [ 330,  200],\n",
              "       [ 243,  178],\n",
              "       [ 330,  200],\n",
              "       [ 240,  172],\n",
              "       [ 250,  173],\n",
              "       [ 270,  170],\n",
              "       [ 280,  150],\n",
              "       [1290, 1068],\n",
              "       [ 300,  179],\n",
              "       [ 243,  178],\n",
              "       [ 330,  200],\n",
              "       [2243, 1178],\n",
              "       [ 330,  200],\n",
              "       [1240, 1170],\n",
              "       [ 250,  173],\n",
              "       [ 270,  170],\n",
              "       [ 280,  150],\n",
              "       [ 290,  168],\n",
              "       [ 300,  179],\n",
              "       [ 243,  178],\n",
              "       [ 330,  200],\n",
              "       [ 400,  300],\n",
              "       [ 500,  400],\n",
              "       [ 600,  200]])"
            ]
          },
          "metadata": {},
          "execution_count": 14
        }
      ]
    },
    {
      "cell_type": "markdown",
      "source": [
        "**FINDING THE OPTIMIZED K VALUE**  "
      ],
      "metadata": {
        "id": "qhs8-jKoDBbz"
      }
    },
    {
      "cell_type": "code",
      "source": [
        "from sklearn.cluster import KMeans\n",
        "wcss=[]\n",
        "for i in range(1,11):\n",
        "  km=KMeans(n_clusters=i,random_state=0)\n",
        "  km.fit(X)\n",
        "  wcss.append(km.inertia_)\n",
        "plt.plot(range(1,11),wcss,color=\"red\",marker=\"8\")\n",
        "plt.title('Optimal K Value')\n",
        "plt.xlabel('Number of clusters')\n",
        "plt.ylabel('WCSS')\n",
        "plt.show()"
      ],
      "metadata": {
        "colab": {
          "base_uri": "https://localhost:8080/",
          "height": 861
        },
        "id": "-0FPDveeExAx",
        "outputId": "2c45da55-c21e-4b51-d814-34fb9041aa45"
      },
      "execution_count": 16,
      "outputs": [
        {
          "output_type": "stream",
          "name": "stderr",
          "text": [
            "/usr/local/lib/python3.10/dist-packages/sklearn/cluster/_kmeans.py:870: FutureWarning: The default value of `n_init` will change from 10 to 'auto' in 1.4. Set the value of `n_init` explicitly to suppress the warning\n",
            "  warnings.warn(\n",
            "/usr/local/lib/python3.10/dist-packages/sklearn/cluster/_kmeans.py:870: FutureWarning: The default value of `n_init` will change from 10 to 'auto' in 1.4. Set the value of `n_init` explicitly to suppress the warning\n",
            "  warnings.warn(\n",
            "/usr/local/lib/python3.10/dist-packages/sklearn/cluster/_kmeans.py:870: FutureWarning: The default value of `n_init` will change from 10 to 'auto' in 1.4. Set the value of `n_init` explicitly to suppress the warning\n",
            "  warnings.warn(\n",
            "/usr/local/lib/python3.10/dist-packages/sklearn/cluster/_kmeans.py:870: FutureWarning: The default value of `n_init` will change from 10 to 'auto' in 1.4. Set the value of `n_init` explicitly to suppress the warning\n",
            "  warnings.warn(\n",
            "/usr/local/lib/python3.10/dist-packages/sklearn/cluster/_kmeans.py:870: FutureWarning: The default value of `n_init` will change from 10 to 'auto' in 1.4. Set the value of `n_init` explicitly to suppress the warning\n",
            "  warnings.warn(\n",
            "/usr/local/lib/python3.10/dist-packages/sklearn/cluster/_kmeans.py:870: FutureWarning: The default value of `n_init` will change from 10 to 'auto' in 1.4. Set the value of `n_init` explicitly to suppress the warning\n",
            "  warnings.warn(\n",
            "/usr/local/lib/python3.10/dist-packages/sklearn/cluster/_kmeans.py:870: FutureWarning: The default value of `n_init` will change from 10 to 'auto' in 1.4. Set the value of `n_init` explicitly to suppress the warning\n",
            "  warnings.warn(\n",
            "/usr/local/lib/python3.10/dist-packages/sklearn/cluster/_kmeans.py:870: FutureWarning: The default value of `n_init` will change from 10 to 'auto' in 1.4. Set the value of `n_init` explicitly to suppress the warning\n",
            "  warnings.warn(\n",
            "/usr/local/lib/python3.10/dist-packages/sklearn/cluster/_kmeans.py:870: FutureWarning: The default value of `n_init` will change from 10 to 'auto' in 1.4. Set the value of `n_init` explicitly to suppress the warning\n",
            "  warnings.warn(\n",
            "/usr/local/lib/python3.10/dist-packages/sklearn/cluster/_kmeans.py:870: FutureWarning: The default value of `n_init` will change from 10 to 'auto' in 1.4. Set the value of `n_init` explicitly to suppress the warning\n",
            "  warnings.warn(\n"
          ]
        },
        {
          "output_type": "display_data",
          "data": {
            "text/plain": [
              "<Figure size 640x480 with 1 Axes>"
            ],
            "image/png": "[encoded data removed]"
          },
          "metadata": {}
        }
      ]
    },
    {
      "cell_type": "markdown",
      "source": [
        "**FINDING THE K-MEANS TO THE DATASET WITH K=4**"
      ],
      "metadata": {
        "id": "MhJhE6SlG8gH"
      }
    },
    {
      "cell_type": "code",
      "source": [
        "model=KMeans(n_clusters=4,random_state=0)\n",
        "y_means=model.fit_predict(X)"
      ],
      "metadata": {
        "colab": {
          "base_uri": "https://localhost:8080/"
        },
        "id": "9lWV6NKqHG_l",
        "outputId": "c1b00548-d5dc-41e8-9a4c-ab13235efd44"
      },
      "execution_count": 18,
      "outputs": [
        {
          "output_type": "stream",
          "name": "stderr",
          "text": [
            "/usr/local/lib/python3.10/dist-packages/sklearn/cluster/_kmeans.py:870: FutureWarning: The default value of `n_init` will change from 10 to 'auto' in 1.4. Set the value of `n_init` explicitly to suppress the warning\n",
            "  warnings.warn(\n"
          ]
        }
      ]
    },
    {
      "cell_type": "markdown",
      "source": [
        "**VISUALISING THE CLUSTERS FOR K=4**"
      ],
      "metadata": {
        "id": "281QyrZrHczG"
      }
    },
    {
      "cell_type": "markdown",
      "source": [
        "*cluster1:Customers with medium income and low spend*\n",
        "\n",
        "*cluster2:Customers with high income and medium to high spend*\n",
        "\n",
        "*cluster3:customers with low income*\n",
        "\n",
        "*cluster4:Customers with medium income but high spend*"
      ],
      "metadata": {
        "id": "-yormuNPJaij"
      }
    },
    {
      "cell_type": "code",
      "source": [
        "plt.scatter(X[y_means==0,0],X[y_means==0,1],s=50,c='brown',label='1')\n",
        "plt.scatter(X[y_means==1,0],X[y_means==1,1],s=50,c='blue',label='2')\n",
        "plt.scatter(X[y_means==2,0],X[y_means==2,1],s=50,c='green',label='3')\n",
        "plt.scatter(X[y_means==3,0],X[y_means==3,1],s=50,c='cyan',label='4')\n",
        "plt.scatter(model.cluster_centers_[:,0],model.cluster_centers_[:,1],s=100,marker='s',c='red',label='centroid')\n",
        "plt.title('Income Spent Analysis')\n",
        "plt.xlabel('Income')\n",
        "plt.ylabel('Spent')\n",
        "plt.legend()"
      ],
      "metadata": {
        "colab": {
          "base_uri": "https://localhost:8080/",
          "height": 490
        },
        "id": "s9KIsrDDHlCe",
        "outputId": "0a48a6d0-e4b8-4c72-d135-38fee10586ef"
      },
      "execution_count": 21,
      "outputs": [
        {
          "output_type": "execute_result",
          "data": {
            "text/plain": [
              "<matplotlib.legend.Legend at 0x7ad1c0af3c10>"
            ]
          },
          "metadata": {},
          "execution_count": 21
        },
        {
          "output_type": "display_data",
          "data": {
            "text/plain": [
              "<Figure size 640x480 with 1 Axes>"
            ],
            "image/png": "[encoded data removed]"
          },
          "metadata": {}
        }
      ]
    }
  ]
}