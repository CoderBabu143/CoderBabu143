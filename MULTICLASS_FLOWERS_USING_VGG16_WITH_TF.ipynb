{
  "nbformat": 4,
  "nbformat_minor": 0,
  "metadata": {
    "colab": {
      "provenance": [],
      "gpuType": "T4",
      "authorship_tag": "ABX9TyPaFA/vL/opjwE7DQjfQaoP",
      "include_colab_link": true
    },
    "kernelspec": {
      "name": "python3",
      "display_name": "Python 3"
    },
    "language_info": {
      "name": "python"
    },
    "accelerator": "GPU"
  },
  "cells": [
    {
      "cell_type": "markdown",
      "metadata": {
        "id": "view-in-github",
        "colab_type": "text"
      },
      "source": [
        "<a href=\"https://colab.research.google.com/github/CoderBabu143/CoderBabu143/blob/main/MULTICLASS_FLOWERS_USING_VGG16_WITH_TF.ipynb\" target=\"_parent\"><img src=\"https://colab.research.google.com/assets/colab-badge.svg\" alt=\"Open In Colab\"/></a>"
      ]
    },
    {
      "cell_type": "code",
      "execution_count": 1,
      "metadata": {
        "id": "Mk6bMS4KgP6P"
      },
      "outputs": [],
      "source": [
        "import tensorflow as tf\n",
        "import tensorflow_datasets as tfds\n",
        "import os\n",
        "import pandas as pd\n",
        "import numpy as np\n",
        "import matplotlib.pyplot as plt\n",
        "import torch"
      ]
    },
    {
      "cell_type": "code",
      "source": [
        "dataset,info=tfds.load('tf_flowers',with_info=True,as_supervised=True)"
      ],
      "metadata": {
        "id": "VsVh9u81ozNX"
      },
      "execution_count": 2,
      "outputs": []
    },
    {
      "cell_type": "code",
      "source": [
        "#supervised_keys=('image','label')\n",
        "class_names=info.features['label'].names\n",
        "class_names"
      ],
      "metadata": {
        "colab": {
          "base_uri": "https://localhost:8080/"
        },
        "id": "SId-i2RzpWKP",
        "outputId": "4ca9eef2-8f29-4050-cf0e-51ffcbd26e42"
      },
      "execution_count": 3,
      "outputs": [
        {
          "output_type": "execute_result",
          "data": {
            "text/plain": [
              "['dandelion', 'daisy', 'tulips', 'sunflowers', 'roses']"
            ]
          },
          "metadata": {},
          "execution_count": 3
        }
      ]
    },
    {
      "cell_type": "code",
      "source": [
        "for i,example in enumerate(dataset['train']):\n",
        "  image,label=example\n",
        "  save_dir='tf_flowers/train/{}'.format(class_names[label])\n",
        "  os.makedirs(save_dir, exist_ok=True)\n",
        "  filepath=save_dir + \"/\" + \"{}_{}.jpg\".format(class_names[label],i)\n",
        "  tf.keras.preprocessing.image.save_img(filepath,image.numpy())\n",
        "  #print(filepath)\n",
        "  #break"
      ],
      "metadata": {
        "id": "4JXpS1gUqJth"
      },
      "execution_count": 4,
      "outputs": []
    },
    {
      "cell_type": "code",
      "source": [
        "from tensorflow.keras.preprocessing.image import ImageDataGenerator\n",
        "from tensorflow.keras.layers import Conv2D,MaxPooling2D,Flatten,Dense,Dropout\n",
        "from tensorflow.keras.models import Sequential"
      ],
      "metadata": {
        "id": "Exo6LUsUsr69"
      },
      "execution_count": 5,
      "outputs": []
    },
    {
      "cell_type": "code",
      "source": [
        "datagen = ImageDataGenerator(rescale=1/255, validation_split=0.2,\n",
        "                             rotation_range=10, width_shift_range = 0.1, height_shift_range=0.1,\n",
        "                             shear_range=0.1, zoom_range=0.1, horizontal_flip=True)\n",
        "\n",
        "train_generator = datagen.flow_from_directory('tf_flowers/train', target_size=(224,224), batch_size=4,\n",
        "                                              class_mode=\"categorical\", subset='training')\n",
        "\n",
        "validation_generator = datagen.flow_from_directory('tf_flowers/train', target_size=(224,224), batch_size=4,\n",
        "                                              class_mode=\"categorical\", subset='validation')\n",
        "\n",
        "\n",
        "\n"
      ],
      "metadata": {
        "colab": {
          "base_uri": "https://localhost:8080/"
        },
        "id": "tQftW2gz8zOC",
        "outputId": "ad3fa174-cab2-42e5-dd96-fc8a542769ad"
      },
      "execution_count": 10,
      "outputs": [
        {
          "output_type": "stream",
          "name": "stdout",
          "text": [
            "Found 2939 images belonging to 5 classes.\n",
            "Found 731 images belonging to 5 classes.\n"
          ]
        }
      ]
    },
    {
      "cell_type": "code",
      "source": [],
      "metadata": {
        "id": "J74XGaJSAYIP"
      },
      "execution_count": 6,
      "outputs": []
    },
    {
      "cell_type": "code",
      "source": [
        "# create base model\n",
        "model = Sequential()\n",
        "model.add(Conv2D(64, (3, 3), activation='relu', input_shape=(224, 224, 3)))\n",
        "model.add(Conv2D(64, (3, 3), activation='relu'))\n",
        "model.add(MaxPooling2D((2, 2)))\n",
        "model.add(Dropout(0.2))\n",
        "\n",
        "model.add(Conv2D(128, (3, 3), activation='relu'))\n",
        "model.add(Conv2D(128, (3, 3), activation='relu'))\n",
        "model.add(MaxPooling2D((2, 2)))\n",
        "model.add(Dropout(0.2))\n",
        "\n",
        "model.add(Flatten())\n",
        "model.add(Dense(512, activation='relu'))\n",
        "model.add(Dropout(0.5))\n",
        "\n",
        "model.add(Dense(5, activation='softmax'))\n",
        "\n",
        "opt = tf.keras.optimizers.Adam(learning_rate=0.0001)\n",
        "model.compile(loss='categorical_crossentropy', optimizer=opt, metrics=['accuracy'])"
      ],
      "metadata": {
        "id": "uj3AZgu1AZfL"
      },
      "execution_count": 12,
      "outputs": []
    },
    {
      "cell_type": "code",
      "source": [
        "model.summary()"
      ],
      "metadata": {
        "colab": {
          "base_uri": "https://localhost:8080/"
        },
        "id": "6isqfLLMRce_",
        "outputId": "1b18443d-7bfb-485a-9ada-59e5a86d68d4"
      },
      "execution_count": 13,
      "outputs": [
        {
          "output_type": "stream",
          "name": "stdout",
          "text": [
            "Model: \"sequential_2\"\n",
            "_________________________________________________________________\n",
            " Layer (type)                Output Shape              Param #   \n",
            "=================================================================\n",
            " conv2d_8 (Conv2D)           (None, 222, 222, 64)      1792      \n",
            "                                                                 \n",
            " conv2d_9 (Conv2D)           (None, 220, 220, 64)      36928     \n",
            "                                                                 \n",
            " max_pooling2d_4 (MaxPoolin  (None, 110, 110, 64)      0         \n",
            " g2D)                                                            \n",
            "                                                                 \n",
            " dropout_6 (Dropout)         (None, 110, 110, 64)      0         \n",
            "                                                                 \n",
            " conv2d_10 (Conv2D)          (None, 108, 108, 128)     73856     \n",
            "                                                                 \n",
            " conv2d_11 (Conv2D)          (None, 106, 106, 128)     147584    \n",
            "                                                                 \n",
            " max_pooling2d_5 (MaxPoolin  (None, 53, 53, 128)       0         \n",
            " g2D)                                                            \n",
            "                                                                 \n",
            " dropout_7 (Dropout)         (None, 53, 53, 128)       0         \n",
            "                                                                 \n",
            " flatten_2 (Flatten)         (None, 359552)            0         \n",
            "                                                                 \n",
            " dense_4 (Dense)             (None, 512)               184091136 \n",
            "                                                                 \n",
            " dropout_8 (Dropout)         (None, 512)               0         \n",
            "                                                                 \n",
            " dense_5 (Dense)             (None, 5)                 2565      \n",
            "                                                                 \n",
            "=================================================================\n",
            "Total params: 184353861 (703.25 MB)\n",
            "Trainable params: 184353861 (703.25 MB)\n",
            "Non-trainable params: 0 (0.00 Byte)\n",
            "_________________________________________________________________\n"
          ]
        }
      ]
    },
    {
      "cell_type": "code",
      "source": [
        "history=model.fit(train_generator,epochs=5,validation_data=validation_generator)"
      ],
      "metadata": {
        "colab": {
          "base_uri": "https://localhost:8080/"
        },
        "id": "UqY1Uht1SM-o",
        "outputId": "cda1657a-d1fe-4a29-98e8-54da6105309d"
      },
      "execution_count": 14,
      "outputs": [
        {
          "output_type": "stream",
          "name": "stdout",
          "text": [
            "Epoch 1/5\n",
            "735/735 [==============================] - 88s 111ms/step - loss: 1.3143 - accuracy: 0.4389 - val_loss: 1.1867 - val_accuracy: 0.5226\n",
            "Epoch 2/5\n",
            "735/735 [==============================] - 83s 113ms/step - loss: 1.1174 - accuracy: 0.5515 - val_loss: 1.0866 - val_accuracy: 0.6088\n",
            "Epoch 3/5\n",
            "735/735 [==============================] - 79s 108ms/step - loss: 1.0064 - accuracy: 0.6131 - val_loss: 0.9859 - val_accuracy: 0.6033\n",
            "Epoch 4/5\n",
            "735/735 [==============================] - 79s 108ms/step - loss: 0.9338 - accuracy: 0.6523 - val_loss: 0.9013 - val_accuracy: 0.6484\n",
            "Epoch 5/5\n",
            "735/735 [==============================] - 80s 108ms/step - loss: 0.8650 - accuracy: 0.6676 - val_loss: 0.9188 - val_accuracy: 0.6607\n"
          ]
        }
      ]
    },
    {
      "cell_type": "code",
      "source": [
        "# VGG 16 Model\n",
        "from tensorflow.keras.applications import VGG16\n",
        "model_vgg16 = VGG16(input_shape=(224,224,3), include_top=False, weights='imagenet')\n"
      ],
      "metadata": {
        "colab": {
          "base_uri": "https://localhost:8080/"
        },
        "id": "3NqQOM09o8qh",
        "outputId": "1b3d0884-ce9d-442f-e110-c4a87ba5b9ba"
      },
      "execution_count": 15,
      "outputs": [
        {
          "output_type": "stream",
          "name": "stdout",
          "text": [
            "Downloading data from https://storage.googleapis.com/tensorflow/keras-applications/vgg16/vgg16_weights_tf_dim_ordering_tf_kernels_notop.h5\n",
            "58889256/58889256 [==============================] - 3s 0us/step\n"
          ]
        }
      ]
    },
    {
      "cell_type": "code",
      "source": [
        "for layer in model_vgg16.layers:\n",
        "  layer.trainable=False\n",
        "\n",
        "model_vgg16.summary()"
      ],
      "metadata": {
        "colab": {
          "base_uri": "https://localhost:8080/"
        },
        "id": "Gda8OPCEo-lC",
        "outputId": "5c70f728-91c2-4712-9d8e-fbe111b14699"
      },
      "execution_count": 16,
      "outputs": [
        {
          "output_type": "stream",
          "name": "stdout",
          "text": [
            "Model: \"vgg16\"\n",
            "_________________________________________________________________\n",
            " Layer (type)                Output Shape              Param #   \n",
            "=================================================================\n",
            " input_1 (InputLayer)        [(None, 224, 224, 3)]     0         \n",
            "                                                                 \n",
            " block1_conv1 (Conv2D)       (None, 224, 224, 64)      1792      \n",
            "                                                                 \n",
            " block1_conv2 (Conv2D)       (None, 224, 224, 64)      36928     \n",
            "                                                                 \n",
            " block1_pool (MaxPooling2D)  (None, 112, 112, 64)      0         \n",
            "                                                                 \n",
            " block2_conv1 (Conv2D)       (None, 112, 112, 128)     73856     \n",
            "                                                                 \n",
            " block2_conv2 (Conv2D)       (None, 112, 112, 128)     147584    \n",
            "                                                                 \n",
            " block2_pool (MaxPooling2D)  (None, 56, 56, 128)       0         \n",
            "                                                                 \n",
            " block3_conv1 (Conv2D)       (None, 56, 56, 256)       295168    \n",
            "                                                                 \n",
            " block3_conv2 (Conv2D)       (None, 56, 56, 256)       590080    \n",
            "                                                                 \n",
            " block3_conv3 (Conv2D)       (None, 56, 56, 256)       590080    \n",
            "                                                                 \n",
            " block3_pool (MaxPooling2D)  (None, 28, 28, 256)       0         \n",
            "                                                                 \n",
            " block4_conv1 (Conv2D)       (None, 28, 28, 512)       1180160   \n",
            "                                                                 \n",
            " block4_conv2 (Conv2D)       (None, 28, 28, 512)       2359808   \n",
            "                                                                 \n",
            " block4_conv3 (Conv2D)       (None, 28, 28, 512)       2359808   \n",
            "                                                                 \n",
            " block4_pool (MaxPooling2D)  (None, 14, 14, 512)       0         \n",
            "                                                                 \n",
            " block5_conv1 (Conv2D)       (None, 14, 14, 512)       2359808   \n",
            "                                                                 \n",
            " block5_conv2 (Conv2D)       (None, 14, 14, 512)       2359808   \n",
            "                                                                 \n",
            " block5_conv3 (Conv2D)       (None, 14, 14, 512)       2359808   \n",
            "                                                                 \n",
            " block5_pool (MaxPooling2D)  (None, 7, 7, 512)         0         \n",
            "                                                                 \n",
            "=================================================================\n",
            "Total params: 14714688 (56.13 MB)\n",
            "Trainable params: 0 (0.00 Byte)\n",
            "Non-trainable params: 14714688 (56.13 MB)\n",
            "_________________________________________________________________\n"
          ]
        }
      ]
    },
    {
      "cell_type": "code",
      "source": [
        "model = Sequential()\n",
        "model.add(model_vgg16)\n",
        "model.add(Flatten())\n",
        "model.add(Dense(512, activation='relu'))\n",
        "model.add(Dropout(0.5))\n",
        "model.add(Dense(5, activation='softmax'))\n",
        "\n",
        "model.summary()"
      ],
      "metadata": {
        "colab": {
          "base_uri": "https://localhost:8080/"
        },
        "id": "JVWix-vFpFYi",
        "outputId": "569373a5-e127-4aab-e5dd-b2fdbcf97ece"
      },
      "execution_count": 17,
      "outputs": [
        {
          "output_type": "stream",
          "name": "stdout",
          "text": [
            "Model: \"sequential_3\"\n",
            "_________________________________________________________________\n",
            " Layer (type)                Output Shape              Param #   \n",
            "=================================================================\n",
            " vgg16 (Functional)          (None, 7, 7, 512)         14714688  \n",
            "                                                                 \n",
            " flatten_3 (Flatten)         (None, 25088)             0         \n",
            "                                                                 \n",
            " dense_6 (Dense)             (None, 512)               12845568  \n",
            "                                                                 \n",
            " dropout_9 (Dropout)         (None, 512)               0         \n",
            "                                                                 \n",
            " dense_7 (Dense)             (None, 5)                 2565      \n",
            "                                                                 \n",
            "=================================================================\n",
            "Total params: 27562821 (105.14 MB)\n",
            "Trainable params: 12848133 (49.01 MB)\n",
            "Non-trainable params: 14714688 (56.13 MB)\n",
            "_________________________________________________________________\n"
          ]
        }
      ]
    },
    {
      "cell_type": "code",
      "source": [
        "model.compile(loss='categorical_crossentropy', optimizer='adam', metrics=['accuracy'])\n",
        "history=model.fit(train_generator, epochs=5, validation_data=validation_generator)"
      ],
      "metadata": {
        "colab": {
          "base_uri": "https://localhost:8080/"
        },
        "id": "Muy60jKkpJ6t",
        "outputId": "7686067f-d754-4457-d935-b96e0eaee8a3"
      },
      "execution_count": 18,
      "outputs": [
        {
          "output_type": "stream",
          "name": "stdout",
          "text": [
            "Epoch 1/5\n",
            "735/735 [==============================] - 62s 81ms/step - loss: 1.5503 - accuracy: 0.5332 - val_loss: 0.8228 - val_accuracy: 0.6826\n",
            "Epoch 2/5\n",
            "735/735 [==============================] - 59s 80ms/step - loss: 0.9558 - accuracy: 0.6339 - val_loss: 0.6708 - val_accuracy: 0.7524\n",
            "Epoch 3/5\n",
            "735/735 [==============================] - 58s 80ms/step - loss: 0.8651 - accuracy: 0.6700 - val_loss: 0.6529 - val_accuracy: 0.7633\n",
            "Epoch 4/5\n",
            "735/735 [==============================] - 68s 92ms/step - loss: 0.8183 - accuracy: 0.6890 - val_loss: 0.6348 - val_accuracy: 0.7688\n",
            "Epoch 5/5\n",
            "735/735 [==============================] - 59s 81ms/step - loss: 0.7672 - accuracy: 0.7033 - val_loss: 0.6217 - val_accuracy: 0.7565\n"
          ]
        }
      ]
    },
    {
      "cell_type": "code",
      "source": [
        "model.save('flowers_classifier.h5')"
      ],
      "metadata": {
        "colab": {
          "base_uri": "https://localhost:8080/"
        },
        "id": "nCy-aJs5pPDE",
        "outputId": "faef7533-1f15-472d-e822-0d745b754ba2"
      },
      "execution_count": 19,
      "outputs": [
        {
          "output_type": "stream",
          "name": "stderr",
          "text": [
            "/usr/local/lib/python3.10/dist-packages/keras/src/engine/training.py:3079: UserWarning: You are saving your model as an HDF5 file via `model.save()`. This file format is considered legacy. We recommend using instead the native Keras format, e.g. `model.save('my_model.keras')`.\n",
            "  saving_api.save_model(\n"
          ]
        }
      ]
    },
    {
      "cell_type": "code",
      "source": [
        "flowers = tf.keras.models.load_model('flowers_classifier.h5')"
      ],
      "metadata": {
        "id": "ctSID2FepSov"
      },
      "execution_count": 20,
      "outputs": []
    },
    {
      "cell_type": "code",
      "source": [
        "flowers.summary()"
      ],
      "metadata": {
        "colab": {
          "base_uri": "https://localhost:8080/"
        },
        "id": "W0wP8WiipUE7",
        "outputId": "e5bd6f54-1e1a-4045-ac3a-a3884dbcc556"
      },
      "execution_count": 21,
      "outputs": [
        {
          "output_type": "stream",
          "name": "stdout",
          "text": [
            "Model: \"sequential_3\"\n",
            "_________________________________________________________________\n",
            " Layer (type)                Output Shape              Param #   \n",
            "=================================================================\n",
            " vgg16 (Functional)          (None, 7, 7, 512)         14714688  \n",
            "                                                                 \n",
            " flatten_3 (Flatten)         (None, 25088)             0         \n",
            "                                                                 \n",
            " dense_6 (Dense)             (None, 512)               12845568  \n",
            "                                                                 \n",
            " dropout_9 (Dropout)         (None, 512)               0         \n",
            "                                                                 \n",
            " dense_7 (Dense)             (None, 5)                 2565      \n",
            "                                                                 \n",
            "=================================================================\n",
            "Total params: 27562821 (105.14 MB)\n",
            "Trainable params: 12848133 (49.01 MB)\n",
            "Non-trainable params: 14714688 (56.13 MB)\n",
            "_________________________________________________________________\n"
          ]
        }
      ]
    },
    {
      "cell_type": "code",
      "source": [
        "import cv2\n",
        "\n",
        "img = cv2.imread('/content/tf_flowers/train/roses/roses_1054.jpg')\n",
        "img = cv2.resize(img, (224,224))\n",
        "img = np.reshape(img, [1,224,224,3])\n",
        "img = img/255\n",
        "\n",
        "preds = flowers.predict(img)\n",
        "\n",
        "max_idx = np.argmax(preds)\n",
        "class_indices = {v:k for k,v in train_generator.class_indices.items()}\n",
        "class_indices[max_idx]"
      ],
      "metadata": {
        "colab": {
          "base_uri": "https://localhost:8080/",
          "height": 55
        },
        "id": "QJ6BKhyqpZpr",
        "outputId": "baa777ec-1119-4cd6-e285-e29309a8a010"
      },
      "execution_count": 22,
      "outputs": [
        {
          "output_type": "stream",
          "name": "stdout",
          "text": [
            "1/1 [==============================] - 1s 733ms/step\n"
          ]
        },
        {
          "output_type": "execute_result",
          "data": {
            "text/plain": [
              "'roses'"
            ],
            "application/vnd.google.colaboratory.intrinsic+json": {
              "type": "string"
            }
          },
          "metadata": {},
          "execution_count": 22
        }
      ]
    }
  ]
}